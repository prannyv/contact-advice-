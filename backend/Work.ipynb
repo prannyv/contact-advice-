{
 "cells": [
  {
   "cell_type": "code",
   "execution_count": 1,
   "id": "1d45b304-8570-4f12-bb7d-922c0dcd818d",
   "metadata": {},
   "outputs": [],
   "source": [
    "import pandas as pd\n",
    "import numpy as np\n",
    "import re\n",
    "import openai\n",
    "import os\n",
    "from textreader import scrapData"
   ]
  },
  {
   "cell_type": "code",
   "execution_count": 2,
   "id": "cf3721f4-07c5-4bc5-a0d0-c4cb24bb95a6",
   "metadata": {},
   "outputs": [
    {
     "name": "stdout",
     "output_type": "stream",
     "text": [
      "1042\n",
      "1043\n",
      "1437\n",
      "1438\n"
     ]
    },
    {
     "name": "stderr",
     "output_type": "stream",
     "text": [
      "/var/folders/2j/0_wrpd3n1xs8vhzsjgsnfdhm0000gn/T/ipykernel_35572/394106510.py:14: FutureWarning: The frame.append method is deprecated and will be removed from pandas in a future version. Use pandas.concat instead.\n",
      "  dfs[person] = dfs[person].append(newDf, ignore_index=True)\n",
      "/var/folders/2j/0_wrpd3n1xs8vhzsjgsnfdhm0000gn/T/ipykernel_35572/394106510.py:14: FutureWarning: The frame.append method is deprecated and will be removed from pandas in a future version. Use pandas.concat instead.\n",
      "  dfs[person] = dfs[person].append(newDf, ignore_index=True)\n"
     ]
    },
    {
     "name": "stdout",
     "output_type": "stream",
     "text": [
      "2701\n",
      "2702\n"
     ]
    },
    {
     "name": "stderr",
     "output_type": "stream",
     "text": [
      "/var/folders/2j/0_wrpd3n1xs8vhzsjgsnfdhm0000gn/T/ipykernel_35572/394106510.py:14: FutureWarning: The frame.append method is deprecated and will be removed from pandas in a future version. Use pandas.concat instead.\n",
      "  dfs[person] = dfs[person].append(newDf, ignore_index=True)\n"
     ]
    },
    {
     "name": "stdout",
     "output_type": "stream",
     "text": [
      "3968\n",
      "3967\n"
     ]
    },
    {
     "name": "stderr",
     "output_type": "stream",
     "text": [
      "/var/folders/2j/0_wrpd3n1xs8vhzsjgsnfdhm0000gn/T/ipykernel_35572/394106510.py:14: FutureWarning: The frame.append method is deprecated and will be removed from pandas in a future version. Use pandas.concat instead.\n",
      "  dfs[person] = dfs[person].append(newDf, ignore_index=True)\n"
     ]
    },
    {
     "data": {
      "text/plain": [
       "{'pranav':                                              input_text  \\\n",
       " 0                         gym routine ill send u my ppl   \n",
       " 1     gym everything is 3x8 unless stated otherwise ...   \n",
       " 2     if ur by yourself do bench incline shoulder on...   \n",
       " 3                                              benchkis   \n",
       " 4              u have his number give him the uw wisdom   \n",
       " ...                                                 ...   \n",
       " 1037  datum this message responded to an earlier mes...   \n",
       " 1038  yeah this is bigger than i thought lowkey like...   \n",
       " 1039  nah id win b yeah this is bigger than i though...   \n",
       " 1040  nah id win b this message responded to an earl...   \n",
       " 1041  dayum i think u did show me bro hw bag is like...   \n",
       " \n",
       "                                             output_text  \n",
       " 0     reactions loved by me yo whats our usual routine   \n",
       " 1                                                   ok   \n",
       " 2                                                   ty   \n",
       " 3                                   im w makis spotkis   \n",
       " 4                              yo ill visit ur brother   \n",
       " ...                                                 ...  \n",
       " 1037  sadge like model view controller this message ...  \n",
       " 1038  rlly thats cool htn got no sponsorhisp like that   \n",
       " 1039                                     i got one alr   \n",
       " 1040  i got one alr this message responded to an ear...  \n",
       " 1041                                                ya   \n",
       " \n",
       " [1042 rows x 2 columns],\n",
       " 'ethan':                                              input_text  \\\n",
       " 0                               yeses u want ur blanket   \n",
       " 1                                             like 9ish   \n",
       " 2                                  aiii r u proud of me   \n",
       " 3     yes planning on staying most of the day same p...   \n",
       " 4                                                   yep   \n",
       " ...                                                 ...   \n",
       " 8100                               but bring ur own too   \n",
       " 8101  u can have some but id think there anough for ...   \n",
       " 8102  ayo y does stephanie and felix lowkey make a c...   \n",
       " 8103                        lmao me and sarah got pizza   \n",
       " 8104                                        toooo baddd   \n",
       " \n",
       "                                             output_text  \n",
       " 0                           it s isabelle are u up yet   \n",
       " 1     u slept vv early yesterday so i have hope that...  \n",
       " 2                                                 woah   \n",
       " 3     miracle yes i think it could just be a miracle...  \n",
       " 4                                       the zoo lounge   \n",
       " ...                                                 ...  \n",
       " 8100                            yeah i wanna get tipsy   \n",
       " 8101                                  hm okok lol yeah   \n",
       " 8102                                     home r u home   \n",
       " 8103  lmao bye did u rlly bahahhahshd thats so funni...  \n",
       " 8104  also there app bbt at hack western still react...  \n",
       " \n",
       " [8105 rows x 2 columns]}"
      ]
     },
     "execution_count": 2,
     "metadata": {},
     "output_type": "execute_result"
    }
   ],
   "source": [
    "people = [x for x in os.listdir(f\"./dataset/\") if not x.startswith('.') and x != \"outputs\"]\n",
    "characters = {}\n",
    "\n",
    "dfs = {}\n",
    "for person in people:\n",
    "    chats = os.listdir(f\"./dataset/{person}\")\n",
    "    characters[person] = chats\n",
    "    dfs[person] = pd.DataFrame({\"input_text\":[], \"output_text\":[]})\n",
    "\n",
    "    for chat in chats:\n",
    "        scrapData(chat[:-4], f\"./dataset/{person}/{chat}\")\n",
    "        \n",
    "        newDf = pd.read_json(f\"./dataset/outputs/{chat[:-4]}_Output.json\")\n",
    "        dfs[person] = dfs[person].append(newDf, ignore_index=True)\n",
    "        \n",
    "dfs"
   ]
  },
  {
   "cell_type": "code",
   "execution_count": 7,
   "id": "40cd781a-500c-4230-8a4f-1efc387a649b",
   "metadata": {},
   "outputs": [],
   "source": [
    "import torch\n",
    "import torch.nn as nn\n",
    "from torch.nn import functional as F\n",
    "import nltk"
   ]
  },
  {
   "cell_type": "code",
   "execution_count": 8,
   "id": "623d9755-284b-4659-8c8e-b0cbd7b5d98e",
   "metadata": {},
   "outputs": [
    {
     "name": "stdout",
     "output_type": "stream",
     "text": [
      "cpu\n"
     ]
    }
   ],
   "source": [
    "import torch\n",
    "import torch.nn as nn\n",
    "from torch.nn import functional as F\n",
    "device = 'cuda' if torch.cuda.is_available() else 'cpu'\n",
    "\n",
    "batch_size = 2\n",
    "block_size = 128\n",
    "max_iters = 200\n",
    "learning_rate = 3e-4\n",
    "eval_iters = 100\n",
    "n_embd = 128\n",
    "n_head = 4\n",
    "n_layer = 2\n",
    "dropout = 0.2\n",
    "\n",
    "class GPTLanguageModel(nn.Module):\n",
    "    def __init__(self, vocab_size):\n",
    "        super().__init__()\n",
    "        self.token_embedding_table = nn.Embedding(vocab_size, n_embd)\n",
    "        self.position_embedding_table = nn.Embedding(block_size, n_embd)\n",
    "\n",
    "        # 2 Decoder and Encoder Layers\n",
    "        self.blocks = nn.Sequential(*[Block(n_embd, n_head=n_head) for _ in range(n_layer)])\n",
    "        self.ln_f = nn.LayerNorm(n_embd) # final layer norm (make it normalized)\n",
    "        self.lm_head = nn.Linear(n_embd, vocab_size) # Linear layer -> to make it softmax workable and led to prob. dist\n",
    "        \n",
    "    def forward(self, index, targets=None):\n",
    "        logits = self.token_embedding_table(index)\n",
    "        \n",
    "        \n",
    "        if targets is None:\n",
    "            loss = None\n",
    "        else:\n",
    "            B, T, C = logits.shape\n",
    "            logits = logits.view(B*T, C)\n",
    "            targets = targets.view(B*T)\n",
    "            loss = F.cross_entropy(logits, targets)\n",
    "        \n",
    "        return logits, loss\n",
    "    \n",
    "    def generate(self, index, max_new_tokens):\n",
    "        # index is (B, T) array of indices in the current context\n",
    "        for _ in range(max_new_tokens):\n",
    "            # get the predictions\n",
    "            logits, loss = self.forward(index)\n",
    "            # focus only on the last time step\n",
    "            logits = logits[:, -1, :] # becomes (B, C)\n",
    "            # apply softmax to get probabilities\n",
    "            probs = F.softmax(logits, dim=-1) # (B, C)\n",
    "            # sample from the distribution\n",
    "            index_next = torch.multinomial(probs, num_samples=1) # (B, 1)\n",
    "            # append sampled index to the running sequence\n",
    "            index = torch.cat((index, index_next), dim=1) # (B, T+1)\n",
    "        return index\n"
   ]
  },
  {
   "cell_type": "code",
   "execution_count": null,
   "id": "9325c225-e8e2-49fe-9ca6-6a57f6d2a686",
   "metadata": {},
   "outputs": [],
   "source": []
  }
 ],
 "metadata": {
  "kernelspec": {
   "display_name": "venv",
   "language": "python",
   "name": "venv"
  },
  "language_info": {
   "codemirror_mode": {
    "name": "ipython",
    "version": 3
   },
   "file_extension": ".py",
   "mimetype": "text/x-python",
   "name": "python",
   "nbconvert_exporter": "python",
   "pygments_lexer": "ipython3",
   "version": "3.10.9"
  }
 },
 "nbformat": 4,
 "nbformat_minor": 5
}
